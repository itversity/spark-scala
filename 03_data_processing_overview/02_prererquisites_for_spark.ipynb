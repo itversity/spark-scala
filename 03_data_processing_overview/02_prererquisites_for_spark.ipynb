{
 "cells": [
  {
   "cell_type": "markdown",
   "metadata": {
    "pycharm": {
     "name": "#%% md\n"
    }
   },
   "source": [
    "## Prerequisites for Spark\n",
    "\n",
    "Let us understand prerequisites before getting into the module.\n",
    "* Good understanding of Data Processing using Python.\n",
    "* Data Processing Life Cycle\n",
    "  * Reading Data from files\n",
    "  * Processing Data using APIs\n",
    "  * Writing Processed Data back to files\n",
    "* We can also use Databases as sources and sinks. It will be covered at a later point in time.\n",
    "* We can also read data in streaming fashion which is out of the scope of this course.\n",
    "\n",
    "\n",
    "We will get an overview of the Data Processing Life Cycle by the end of the module.\n",
    "* Read airlines data from the file.\n",
    "* Preview the schema and data to understand the characteristics of the data.\n",
    "* Get an overview of Data Frame APIs as well as functions used to process the data.\n",
    "* Check if there are any duplicates in the data.\n",
    "* Get an overview of how to write data in Data Frames to Files using File Formats such as Parquet using Compression.\n",
    "* Reorganize the data by month with different file format and using partitioning strategy.\n",
    "* We will deep dive into Data Frame APIs to process the data in subsequent modules."
   ]
  },
  {
   "cell_type": "code",
   "execution_count": null,
   "metadata": {},
   "outputs": [],
   "source": []
  }
 ],
 "metadata": {
  "kernelspec": {
   "display_name": "Apache Toree - Scala",
   "language": "scala",
   "name": "apache_toree_scala"
  },
  "language_info": {
   "name": ""
  }
 },
 "nbformat": 4,
 "nbformat_minor": 4
}
