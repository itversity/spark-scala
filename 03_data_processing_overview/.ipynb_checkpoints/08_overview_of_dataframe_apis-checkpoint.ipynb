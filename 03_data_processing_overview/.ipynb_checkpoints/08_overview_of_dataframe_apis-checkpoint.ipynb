{
 "cells": [
  {
   "cell_type": "markdown",
   "metadata": {},
   "source": [
    "## Overview of Data Frame APIs\n",
    "\n",
    "Let us get an overview of Data Frame APIs to process data in Data Frames.\n",
    "* Row Level Transformations or Projection of Data can be done using `select`, `selectExpr`, `withColumn`, `drop` on Data Frame.\n",
    "* We typically apply functions from `pyspark.sql.functions` on columns using `select` and `withColumn`\n",
    "* Filtering is typically done either by using `filter` or `where` on Data Frame.\n",
    "* We can pass the condition to `filter` or `where` either by using SQL Style or Programming Language Style.\n",
    "* Global Aggregations can be performed directly on the Data Frame.\n",
    "* By Key or Grouping Aggregations are typically performed using `groupBy` and then aggregate functions using `agg`\n",
    "* We can sort the data in Data Frame using `sort` or `orderBy`\n",
    "* We will talk about Window Functions later. We can use use Window Functions for some advanced Aggregations and Ranking."
   ]
  },
  {
   "cell_type": "markdown",
   "metadata": {},
   "source": [
    "### Tasks\n",
    "\n",
    "Let us understand how to project the data using different options such as `select`, `selectExpr`, `withColumn`, `drop.`\n",
    "\n",
    "* Create Dataframe **employees** using Collection"
   ]
  },
  {
   "cell_type": "code",
   "execution_count": null,
   "metadata": {
    "pycharm": {
     "name": "#%%\n"
    }
   },
   "outputs": [],
   "source": [
    "val employees = List((1, \"Scott\", \"Tiger\", 1000.0, \"united states\"),\n",
    "                     (2, \"Henry\", \"Ford\", 1250.0, \"India\"),\n",
    "                     (3, \"Nick\", \"Junior\", 750.0, \"united KINGDOM\"),\n",
    "                     (4, \"Bill\", \"Gomes\", 1500.0, \"AUSTRALIA\")\n",
    "                    )"
   ]
  },
  {
   "cell_type": "code",
   "execution_count": null,
   "metadata": {},
   "outputs": [],
   "source": [
    "val employeesDF = employees.\n",
    "    toDF(\"employee_id\", \n",
    "         \"first_name\", \n",
    "         \"last_name\", \n",
    "         \"salary\", \n",
    "         \"nationality\"\n",
    "        )"
   ]
  },
  {
   "cell_type": "code",
   "execution_count": null,
   "metadata": {},
   "outputs": [],
   "source": [
    "employeesDF.printSchema"
   ]
  },
  {
   "cell_type": "code",
   "execution_count": null,
   "metadata": {},
   "outputs": [],
   "source": [
    "employeesDF.show"
   ]
  },
  {
   "cell_type": "markdown",
   "metadata": {},
   "source": [
    "* Project employee first name and last name.\n"
   ]
  },
  {
   "cell_type": "code",
   "execution_count": null,
   "metadata": {
    "pycharm": {
     "name": "#%%\n"
    }
   },
   "outputs": [],
   "source": [
    "employeesDF.\n",
    "    select(\"first_name\", \"last_name\").\n",
    "    show"
   ]
  },
  {
   "cell_type": "markdown",
   "metadata": {},
   "source": [
    "* Project all the fields except for Nationality"
   ]
  },
  {
   "cell_type": "code",
   "execution_count": null,
   "metadata": {
    "pycharm": {
     "name": "#%%\n"
    }
   },
   "outputs": [],
   "source": [
    "employeesDF.\n",
    "    drop(\"nationality\").\n",
    "    show"
   ]
  },
  {
   "cell_type": "markdown",
   "metadata": {},
   "source": [
    "**We will explore most of the APIs to process data in Data Frames as we get into the data processing at a later point in time**"
   ]
  }
 ],
 "metadata": {
  "kernelspec": {
   "display_name": "Apache Toree - Scala",
   "language": "scala",
   "name": "apache_toree_scala"
  },
  "language_info": {
   "name": ""
  }
 },
 "nbformat": 4,
 "nbformat_minor": 4
}
