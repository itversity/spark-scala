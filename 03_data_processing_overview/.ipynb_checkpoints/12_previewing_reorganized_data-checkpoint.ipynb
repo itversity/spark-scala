{
 "cells": [
  {
   "cell_type": "markdown",
   "metadata": {
    "pycharm": {
     "name": "#%% md\n"
    }
   },
   "source": [
    "## Previewing reorganized data\n",
    "Let us preview the data using reorganized data.\n",
    "* We will use new location going forward - **/public/airlines_all/airlines-part**. Data is already copied into that location.\n",
    "* We have partitioned data by month and stored in that location.\n",
    "* Instead of using complete data set we will read the data from one partition **/public/airlines_all/airlines-part/flightmonth=200801**\n",
    "* First let us create a DataFrame object by using `spark.read.parquet(\"/public/airlines_all/airlines-part/flightmonth=200801\")` - let\"s say airlines. \n",
    "* We can get the schema of the DataFrame using `airlines.printSchema()`\n",
    "* Use `airlines.show()` or `airlines.show(100, truncate=False)`  to preview the data.\n",
    "* We can also use `display(airlines)` to get airlines data in tabular format as part of Databricks Notebook.\n",
    "* We can also use `airlines.describe().show()` to get some statistics about the Data Frame and `airlines.count()` to get the number of records in the DataFrame."
   ]
  }
 ],
 "metadata": {
  "kernelspec": {
   "display_name": "Apache Toree - Scala",
   "language": "scala",
   "name": "apache_toree_scala"
  },
  "language_info": {
   "name": ""
  }
 },
 "nbformat": 4,
 "nbformat_minor": 4
}
