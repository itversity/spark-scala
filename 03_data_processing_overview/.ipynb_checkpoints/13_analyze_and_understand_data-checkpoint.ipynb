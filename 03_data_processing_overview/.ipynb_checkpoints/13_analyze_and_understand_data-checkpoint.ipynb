{
 "cells": [
  {
   "cell_type": "markdown",
   "metadata": {},
   "source": [
    "## Analyze and Understand Data\n",
    "Let us analyze and understand more about the data in detail using data of 2008 January.\n",
    "* First let us read the data for the month of 2008 January."
   ]
  },
  {
   "cell_type": "code",
   "execution_count": null,
   "metadata": {
    "pycharm": {
     "name": "#%%\n"
    }
   },
   "outputs": [],
   "source": [
    "val airlines_path = \"/public/airlines_all/airlines-part/flightmonth=200801\"\n",
    "\n",
    "val airlines = spark.\n",
    "    read.\n",
    "    parquet(airlines_path)"
   ]
  },
  {
   "cell_type": "code",
   "execution_count": null,
   "metadata": {},
   "outputs": [],
   "source": [
    "airlines.count"
   ]
  },
  {
   "cell_type": "code",
   "execution_count": null,
   "metadata": {},
   "outputs": [],
   "source": [
    "airlines.printSchema"
   ]
  },
  {
   "cell_type": "markdown",
   "metadata": {},
   "source": [
    "* Get number of records - `airlines.count()`\n",
    "* Go through the list of columns and understand the purpose of them.\n",
    "  * Year\n",
    "  * Month\n",
    "  * DayOfMonth\n",
    "  * CRSDepTime - Scheduled Departure Time\n",
    "  * DepTime - Actual Departure Time.\n",
    "  * DepDelay - Departure Delay in Minutes\n",
    "  * CRSArrTime - Scheduled Arrival Time\n",
    "  * ArrTime - Actual Arrival Time.\n",
    "  * ArrDelay - Arrival Delay in Minutes.\n",
    "  * UniqueCarrier - Carrier or Airlines\n",
    "  * FlightNum - Flight Number\n",
    "  * Distance - Distance between Origin and Destination\n",
    "  * IsDepDelayed - this is set to yes for those flights where departure is delayed.\n",
    "  * IsArrDelayed -- this is set to yes for those flights where arrival is delayed.\n",
    "* Get number of unique origins"
   ]
  },
  {
   "cell_type": "code",
   "execution_count": null,
   "metadata": {
    "pycharm": {
     "name": "#%%\n"
    }
   },
   "outputs": [],
   "source": [
    "airlines.\n",
    "    select(\"Origin\").\n",
    "    distinct.\n",
    "    count"
   ]
  },
  {
   "cell_type": "markdown",
   "metadata": {},
   "source": [
    "* Get number of unique destinations"
   ]
  },
  {
   "cell_type": "code",
   "execution_count": null,
   "metadata": {
    "pycharm": {
     "name": "#%%\n"
    }
   },
   "outputs": [],
   "source": [
    "airlines.\n",
    "    select(\"Dest\").\n",
    "    distinct.\n",
    "    count"
   ]
  },
  {
   "cell_type": "markdown",
   "metadata": {},
   "source": [
    "* Get all unique carriers"
   ]
  },
  {
   "cell_type": "code",
   "execution_count": null,
   "metadata": {},
   "outputs": [],
   "source": [
    "airlines.\n",
    "    select(\"UniqueCarrier\").\n",
    "    distinct.\n",
    "    show"
   ]
  }
 ],
 "metadata": {
  "kernelspec": {
   "display_name": "Apache Toree - Scala",
   "language": "scala",
   "name": "apache_toree_scala"
  },
  "language_info": {
   "name": ""
  }
 },
 "nbformat": 4,
 "nbformat_minor": 4
}
