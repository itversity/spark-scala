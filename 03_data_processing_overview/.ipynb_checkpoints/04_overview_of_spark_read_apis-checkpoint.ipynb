{
 "cells": [
  {
   "cell_type": "markdown",
   "metadata": {},
   "source": [
    "## Overview of Spark read APIs\n",
    "\n",
    "Let us get the overview of Spark read APIs to read files of different formats.\n",
    "\n",
    "* `spark` has a bunch of APIs to read data from files of different formats.\n",
    "* All APIs are exposed under `spark.read`\n",
    "  * `text` - to read single column data from text files as well as reading each of the whole text file as one record.\n",
    "  * `csv`- to read text files with delimiters. Default is a comma, but we can use other delimiters as well.\n",
    "  * `json` - to read data from JSON files\n",
    "  * `orc` - to read data from ORC files\n",
    "  * `parquet` - to read data from Parquet files.\n",
    "  * We can also read data from other file formats by plugging in and by using `spark.read.format`\n",
    "* We can also pass options based on the file formats.\n",
    "  * `inferSchema` - to infer the data types of the columns based on the data.\n",
    "  * `header` - to use header to get the column names in case of text files.\n",
    "  * `schema` - to explicitly specify the schema.\n",
    "* We can get the help on APIs like `spark.read.csv` using `help(spark.read.csv)`.\n",
    "* Reading delimited data from text files."
   ]
  },
  {
   "cell_type": "code",
   "execution_count": null,
   "metadata": {},
   "outputs": [],
   "source": [
    "spark.\n",
    "    read.\n",
    "    schema(\"\"\"order_id INT, \n",
    "              order_date STRING, \n",
    "              order_customer_id INT, \n",
    "              order_status STRING\n",
    "           \"\"\"\n",
    "          ).\n",
    "    csv(\"/public/retail_db/orders\").\n",
    "    show"
   ]
  },
  {
   "cell_type": "markdown",
   "metadata": {},
   "source": [
    "* Reading JSON data from text files. We can infer schema from the data as each JSON object contain both column name and value.\n",
    "* Example for JSON\n",
    "\n",
    "```\n",
    "{ \"order_id\": 1, \"order_date\": \"2013-07-25 00:00:00.0\", \"order_customer_id\": 12345, \"order_status\": \"COMPLETE\" }\n",
    "```"
   ]
  },
  {
   "cell_type": "code",
   "execution_count": null,
   "metadata": {},
   "outputs": [],
   "source": [
    "spark.\n",
    "    read.\n",
    "    json(\"/public/retail_db_json/orders\").\n",
    "    show"
   ]
  }
 ],
 "metadata": {
  "kernelspec": {
   "display_name": "Apache Toree - Scala",
   "language": "scala",
   "name": "apache_toree_scala"
  },
  "language_info": {
   "codemirror_mode": "text/x-scala",
   "file_extension": ".scala",
   "mimetype": "text/x-scala",
   "name": "scala",
   "pygments_lexer": "scala",
   "version": "2.11.12"
  }
 },
 "nbformat": 4,
 "nbformat_minor": 4
}
