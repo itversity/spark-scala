{
 "cells": [
  {
   "cell_type": "markdown",
   "metadata": {
    "pycharm": {
     "name": "#%% md\n"
    }
   },
   "source": [
    "# Data Processing - Overview\n",
    "\n",
    "Let us get an overview of Data Processing using Scala as programming language.\n",
    "\n",
    "* Prerequisites for Spark\n",
    "* Starting Spark Context\n",
    "* Overview of Spark Read APIs\n",
    "* Understand Airlines Data\n",
    "* Inferring Schema from Data\n",
    "* Previewing Airlines Data\n",
    "* Overview of Dataframe APIs\n",
    "* Overview of Functions\n",
    "* Overview of Spark Write APIs\n",
    "* Reorganizing Airlines Data\n",
    "* Previewing Reorganized Data\n",
    "* Analyze and Understand Data\n",
    "* Conclusion - Data Processing"
   ]
  }
 ],
 "metadata": {
  "kernelspec": {
   "display_name": "Apache Toree - Scala",
   "language": "scala",
   "name": "apache_toree_scala"
  },
  "language_info": {
   "codemirror_mode": "text/x-scala",
   "file_extension": ".scala",
   "mimetype": "text/x-scala",
   "name": "scala",
   "pygments_lexer": "scala",
   "version": "2.11.12"
  },
  "pycharm": {
   "stem_cell": {
    "cell_type": "raw",
    "metadata": {
     "collapsed": false
    },
    "source": [
     "\n",
     "\n",
     "\n"
    ]
   }
  }
 },
 "nbformat": 4,
 "nbformat_minor": 4
}
