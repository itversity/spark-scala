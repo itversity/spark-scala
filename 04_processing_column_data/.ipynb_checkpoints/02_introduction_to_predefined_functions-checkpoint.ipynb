{
 "cells": [
  {
   "cell_type": "markdown",
   "metadata": {},
   "source": [
    "## Introduction to Predefined Functions\n",
    "\n",
    "We typically process data in the columns using functions in `org.apache.spark.sql.functions`. Let us understand details about these functions in detail as part of this module.\n",
    "* Let us recap about Functions or APIs to process Data Frames.\n",
    "  * Projection - `select` or `withColumn`\n",
    "  * Filtering - `filter` or `where`\n",
    "  * Grouping data by key and perform aggregations - `groupBy`\n",
    "  * Sorting data - `sort` or `orderBy` \n",
    "* We can pass column names or literals or expressions to all the Data Frame APIs.\n",
    "* Expressions include arithmetic operations, transformations using functions from `org.apache.spark.sql.functions`.\n",
    "* There are approximately 300 functions under `org.apache.spark.sql.functions`.\n",
    "* We will talk about some of the important functions used for String Manipulation, Date Manipulation etc."
   ]
  }
 ],
 "metadata": {
  "kernelspec": {
   "display_name": "Apache Toree - Scala",
   "language": "scala",
   "name": "apache_toree_scala"
  },
  "language_info": {
   "codemirror_mode": "text/x-scala",
   "file_extension": ".scala",
   "mimetype": "text/x-scala",
   "name": "scala",
   "pygments_lexer": "scala",
   "version": "2.11.12"
  }
 },
 "nbformat": 4,
 "nbformat_minor": 4
}
