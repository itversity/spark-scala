{
 "cells": [
  {
   "cell_type": "markdown",
   "metadata": {},
   "source": [
    "## Categories of Functions\n",
    "\n",
    "There are approximately 300 functions under org.apache.spark.sql.functions. At a higher level they can be grouped into a few categories.\n",
    "* String Manipulation Functions\n",
    "  * Case Conversion - `lower`,  `upper`\n",
    "  * Getting Length -  `length`\n",
    "  * Extracting substrings - `substring`, `split`\n",
    "  * Trimming - `trim`, `ltrim`, `rtrim`\n",
    "  * Padding - `lpad`, `rpad`\n",
    "  * Concatenating string - `concat`\n",
    "* Date Manipulation Functions\n",
    "  * Getting current date and time - `current_date`, `current_timestamp`\n",
    "  * Date Arithmetic - `date_add`, `date_sub`, `datediff`, `months_between`, `add_months`, `next_day`\n",
    "  * Beginning and Ending Date or Time - `last_day`, `trunc`, `date_trunc`\n",
    "  * Formatting Date - `date_format`\n",
    "  * Extracting Information - `dayofyear`, `dayofmonth`, `dayofweek`, `year`, `month`\n",
    "* Aggregate Functions\n",
    "  * `count`, `countDistinct`\n",
    "  * `sum`, `avg`\n",
    "  * `min`, `max`\n",
    "* Other Functions - We will explore depending on the use cases."
   ]
  }
 ],
 "metadata": {
  "kernelspec": {
   "display_name": "Apache Toree - Scala",
   "language": "scala",
   "name": "apache_toree_scala"
  },
  "language_info": {
   "name": ""
  }
 },
 "nbformat": 4,
 "nbformat_minor": 4
}
