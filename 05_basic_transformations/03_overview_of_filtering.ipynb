{
 "cells": [
  {
   "cell_type": "markdown",
   "metadata": {},
   "source": [
    "## Overview of Filtering\n",
    "Let us understand few important details related to filtering before we get into the solution\n",
    "* Filtering can be done either by using `filter` or `where`. These are like synonyms to each other.\n",
    "* When it comes to the condition, we can either pass it in **SQL Style** or **Data Frame Style**.\n",
    "* Example for SQL Style - `airlines.filter(\"IsArrDelayed = \"YES\"\").show() or airlines.where(\"IsArrDelayed = \"YES\"\").show()`\n",
    "* Example for Data Frame Style - `airlines.filter(airlines[\"IsArrDelayed\"] == \"YES\").show()` or `airlines.filter(airlines.IsArrDelayed == \"YES\").show()`. We can also use where instead of filter.\n",
    "* Here are the other operations we can perform to filter the data - `!=`, `>`, `<`, `>=`, `<=`, `LIKE`, `BETWEEN` with `AND`\n",
    "* If we have to validate against multiple columns then we need to use boolean operations such as `AND` and `OR`.\n",
    "* If we have to compare each column value with multiple values then we can use the `IN` operator.\n",
    "    "
   ]
  },
  {
   "cell_type": "markdown",
   "metadata": {},
   "source": [
    "### Tasks\n",
    "\n",
    "Let us perform some tasks to understand filtering in detail. Solve all the problems by passing  conditions using both SQL Style as well as API Style.\n",
    "\n",
    "* Read the data for the month of 2008 January."
   ]
  },
  {
   "cell_type": "code",
   "execution_count": null,
   "metadata": {
    "pycharm": {
     "name": "#%%\n"
    }
   },
   "outputs": [],
   "source": [
    "val airlines_path = \"/public/airlines_all/airlines-part/flightmonth=200801\""
   ]
  },
  {
   "cell_type": "code",
   "execution_count": null,
   "metadata": {
    "pycharm": {
     "name": "#%%\n"
    }
   },
   "outputs": [],
   "source": [
    "val airlines = spark.\n",
    "    read.\n",
    "    parquet(airlines_path)"
   ]
  },
  {
   "cell_type": "code",
   "execution_count": null,
   "metadata": {
    "pycharm": {
     "name": "#%%\n"
    }
   },
   "outputs": [],
   "source": [
    "airlines.printSchema"
   ]
  },
  {
   "cell_type": "markdown",
   "metadata": {},
   "source": [
    "* Get count of flights which are departed late at origin and reach destination early or on time.\n"
   ]
  },
  {
   "cell_type": "code",
   "execution_count": null,
   "metadata": {
    "pycharm": {
     "name": "#%%\n"
    }
   },
   "outputs": [],
   "source": [
    "airlines.\n",
    "    filter(\"IsDepDelayed = 'YES' AND IsArrDelayed = 'NO'\").\n",
    "    count"
   ]
  },
  {
   "cell_type": "markdown",
   "metadata": {},
   "source": [
    "* API Style"
   ]
  },
  {
   "cell_type": "code",
   "execution_count": null,
   "metadata": {
    "pycharm": {
     "name": "#%%\n"
    }
   },
   "outputs": [],
   "source": [
    "import org.apache.spark.sql.functions.col"
   ]
  },
  {
   "cell_type": "code",
   "execution_count": null,
   "metadata": {
    "pycharm": {
     "name": "#%%\n"
    }
   },
   "outputs": [],
   "source": [
    "airlines.\n",
    "    filter(col(\"IsDepDelayed\") === \"YES\" and\n",
    "           col(\"IsArrDelayed\") === \"NO\"\n",
    "          ).\n",
    "    count"
   ]
  },
  {
   "cell_type": "code",
   "execution_count": null,
   "metadata": {},
   "outputs": [],
   "source": [
    "airlines.\n",
    "    filter(airlines(\"IsDepDelayed\") === \"YES\" and\n",
    "           airlines(\"IsArrDelayed\") === \"NO\"\n",
    "          ).\n",
    "    count"
   ]
  },
  {
   "cell_type": "markdown",
   "metadata": {},
   "source": [
    "* Get count of flights which are departed late from origin by more than 60 minutes.\n"
   ]
  },
  {
   "cell_type": "code",
   "execution_count": null,
   "metadata": {
    "pycharm": {
     "name": "#%%\n"
    }
   },
   "outputs": [],
   "source": [
    "airlines.\n",
    "    filter(\"DepDelay > 60\").\n",
    "    count"
   ]
  },
  {
   "cell_type": "markdown",
   "metadata": {},
   "source": [
    "\n",
    "* API Style"
   ]
  },
  {
   "cell_type": "code",
   "execution_count": null,
   "metadata": {
    "pycharm": {
     "name": "#%%\n"
    }
   },
   "outputs": [],
   "source": [
    "import org.apache.spark.sql.functions.col"
   ]
  },
  {
   "cell_type": "code",
   "execution_count": null,
   "metadata": {
    "pycharm": {
     "name": "#%%\n"
    }
   },
   "outputs": [],
   "source": [
    "airlines.\n",
    "    filter(col(\"DepDelay\") > 60).\n",
    "    count"
   ]
  },
  {
   "cell_type": "markdown",
   "metadata": {},
   "source": [
    "* Get count of flights which are departed early or on time but arrive late by at least 15 minutes.\n"
   ]
  },
  {
   "cell_type": "code",
   "execution_count": null,
   "metadata": {
    "pycharm": {
     "name": "#%%\n"
    }
   },
   "outputs": [],
   "source": [
    "airlines.\n",
    "    filter(\"IsDepDelayed = 'NO' AND ArrDelay >= 15\").\n",
    "    count"
   ]
  },
  {
   "cell_type": "markdown",
   "metadata": {},
   "source": [
    "* API Style"
   ]
  },
  {
   "cell_type": "code",
   "execution_count": null,
   "metadata": {
    "pycharm": {
     "name": "#%%\n"
    }
   },
   "outputs": [],
   "source": [
    "import org.apache.spark.sql.functions. col"
   ]
  },
  {
   "cell_type": "code",
   "execution_count": null,
   "metadata": {
    "pycharm": {
     "name": "#%%\n"
    }
   },
   "outputs": [],
   "source": [
    "airlines.\n",
    "    filter(col(\"IsDepDelayed\") === \"NO\" and col(\"ArrDelay\") >= 15).\n",
    "    count()"
   ]
  },
  {
   "cell_type": "markdown",
   "metadata": {},
   "source": [
    "* Get count of flights departed from following major airports - ORD, DFW, ATL, LAX, SFO."
   ]
  },
  {
   "cell_type": "code",
   "execution_count": null,
   "metadata": {},
   "outputs": [],
   "source": [
    "airlines.count"
   ]
  },
  {
   "cell_type": "code",
   "execution_count": null,
   "metadata": {
    "pycharm": {
     "name": "#%% \n"
    }
   },
   "outputs": [],
   "source": [
    "airlines.\n",
    "    filter(\"Origin IN ('ORD', 'DFW', 'ATL', 'LAX', 'SFO')\").\n",
    "    count"
   ]
  },
  {
   "cell_type": "markdown",
   "metadata": {},
   "source": [
    "* API Style"
   ]
  },
  {
   "cell_type": "code",
   "execution_count": null,
   "metadata": {},
   "outputs": [],
   "source": [
    "import org.apache.spark.sql.functions.col"
   ]
  },
  {
   "cell_type": "code",
   "execution_count": null,
   "metadata": {
    "pycharm": {
     "name": "#%%\n"
    }
   },
   "outputs": [],
   "source": [
    "airlines.\n",
    "    filter(col(\"Origin\").isin(\"ORD\", \"DFW\", \"ATL\", \"LAX\", \"SFO\")).\n",
    "    count"
   ]
  },
  {
   "cell_type": "markdown",
   "metadata": {},
   "source": [
    "* Add a column FlightDate by using Year, Month and DayOfMonth. Format should be **yyyyMMdd**.\n"
   ]
  },
  {
   "cell_type": "code",
   "execution_count": null,
   "metadata": {
    "pycharm": {
     "name": "#%%\n"
    }
   },
   "outputs": [],
   "source": [
    "import org.apache.spark.sql.functions.{col, concat, lpad}"
   ]
  },
  {
   "cell_type": "code",
   "execution_count": null,
   "metadata": {
    "pycharm": {
     "name": "#%%\n"
    }
   },
   "outputs": [],
   "source": [
    "airlines.\n",
    "    withColumn(\"FlightDate\",\n",
    "                concat(col(\"Year\"),\n",
    "                       lpad(col(\"Month\"), 2, \"0\"),\n",
    "                       lpad(col(\"DayOfMonth\"), 2, \"0\")\n",
    "                      )\n",
    "              ).\n",
    "    show"
   ]
  },
  {
   "cell_type": "markdown",
   "metadata": {},
   "source": [
    "* Get count of flights departed late between 2008 January 1st to January 9th using FlightDate.\n"
   ]
  },
  {
   "cell_type": "code",
   "execution_count": null,
   "metadata": {
    "pycharm": {
     "name": "#%%\n"
    }
   },
   "outputs": [],
   "source": [
    "import org.apache.spark.sql.functions.{col, concat, lpad}"
   ]
  },
  {
   "cell_type": "code",
   "execution_count": null,
   "metadata": {
    "pycharm": {
     "name": "#%%\n"
    }
   },
   "outputs": [],
   "source": [
    "airlines.\n",
    "    withColumn(\"FlightDate\",\n",
    "               concat(col(\"Year\"),\n",
    "                      lpad(col(\"Month\"), 2, \"0\"),\n",
    "                      lpad(col(\"DayOfMonth\"), 2, \"0\")\n",
    "                     )\n",
    "              ).\n",
    "    filter(\"IsDepDelayed = 'YES' AND FlightDate LIKE '2008010%'\").\n",
    "    count"
   ]
  },
  {
   "cell_type": "code",
   "execution_count": null,
   "metadata": {
    "pycharm": {
     "name": "#%%\n"
    }
   },
   "outputs": [],
   "source": [
    "import org.apache.spark.sql.functions.{col, concat, lpad}"
   ]
  },
  {
   "cell_type": "code",
   "execution_count": null,
   "metadata": {
    "pycharm": {
     "name": "#%%\n"
    }
   },
   "outputs": [],
   "source": [
    "airlines.\n",
    "    withColumn(\"FlightDate\",\n",
    "               concat(col(\"Year\"),\n",
    "                      lpad(col(\"Month\"), 2, \"0\"),\n",
    "                      lpad(col(\"DayOfMonth\"), 2, \"0\")\n",
    "                     )\n",
    "              ).\n",
    "    filter(\"\"\"\n",
    "           IsDepDelayed = \"YES\" AND \n",
    "           FlightDate BETWEEN 20080101 AND 20080109\n",
    "          \"\"\").\n",
    "    count"
   ]
  },
  {
   "cell_type": "markdown",
   "metadata": {},
   "source": [
    "* API Style"
   ]
  },
  {
   "cell_type": "code",
   "execution_count": null,
   "metadata": {
    "pycharm": {
     "name": "#%%\n"
    }
   },
   "outputs": [],
   "source": [
    "import org.apache.spark.sql.functions.{col, concat, lpad}"
   ]
  },
  {
   "cell_type": "code",
   "execution_count": null,
   "metadata": {
    "pycharm": {
     "name": "#%%\n"
    }
   },
   "outputs": [],
   "source": [
    "airlines.\n",
    "    withColumn(\"FlightDate\",\n",
    "               concat(col(\"Year\"),\n",
    "                      lpad(col(\"Month\"), 2, \"0\"),\n",
    "                      lpad(col(\"DayOfMonth\"), 2, \"0\")\n",
    "                     )\n",
    "              ).\n",
    "    filter(col(\"IsDepDelayed\") === \"YES\" and \n",
    "           (col(\"FlightDate\") like (\"2008010%\"))\n",
    "          ).\n",
    "    count"
   ]
  },
  {
   "cell_type": "code",
   "execution_count": null,
   "metadata": {
    "pycharm": {
     "name": "#%%\n"
    }
   },
   "outputs": [],
   "source": [
    "import org.apache.spark.sql.functions.{col, concat, lpad}\n",
    "\n",
    "airlines.\n",
    "    withColumn(\"FlightDate\",\n",
    "               concat(col(\"Year\"),\n",
    "                      lpad(col(\"Month\"), 2, \"0\"),\n",
    "                      lpad(col(\"DayOfMonth\"), 2, \"0\")\n",
    "                     )\n",
    "              ).\n",
    "    filter(col(\"IsDepDelayed\") === \"YES\" and \n",
    "           (col(\"FlightDate\") between (\"20080101\", \"20080109\"))\n",
    "          ).\n",
    "    count"
   ]
  },
  {
   "cell_type": "markdown",
   "metadata": {},
   "source": [
    "* Get number of flights departed late on Sundays."
   ]
  },
  {
   "cell_type": "code",
   "execution_count": null,
   "metadata": {},
   "outputs": [],
   "source": [
    "val l = List(\"X\")\n",
    "val df = l.toDF(\"dummy\")"
   ]
  },
  {
   "cell_type": "code",
   "execution_count": null,
   "metadata": {},
   "outputs": [],
   "source": [
    "import org.apache.spark.sql.functions.current_date"
   ]
  },
  {
   "cell_type": "code",
   "execution_count": null,
   "metadata": {},
   "outputs": [],
   "source": [
    "df.select(current_date).show"
   ]
  },
  {
   "cell_type": "code",
   "execution_count": null,
   "metadata": {},
   "outputs": [],
   "source": [
    "import org.apache.spark.sql.functions.date_format"
   ]
  },
  {
   "cell_type": "code",
   "execution_count": null,
   "metadata": {},
   "outputs": [],
   "source": [
    "df.select(current_date, date_format(current_date, \"EE\")).show"
   ]
  },
  {
   "cell_type": "code",
   "execution_count": null,
   "metadata": {
    "pycharm": {
     "name": "#%%\n"
    }
   },
   "outputs": [],
   "source": [
    "import org.apache.spark.sql.functions.{col, concat, lpad}\n",
    "\n",
    "airlines.\n",
    "    withColumn(\"FlightDate\",\n",
    "               concat(col(\"Year\"),\n",
    "                      lpad(col(\"Month\"), 2, \"0\"),\n",
    "                      lpad(col(\"DayOfMonth\"), 2, \"0\")\n",
    "                     )\n",
    "              ).\n",
    "    filter(\"\"\"\n",
    "           IsDepDelayed = \"YES\" AND \n",
    "           date_format(to_date(FlightDate, \"yyyyMMdd\"), \"EEEE\") = \"Sunday\"\n",
    "           \"\"\").\n",
    "    count"
   ]
  },
  {
   "cell_type": "markdown",
   "metadata": {},
   "source": [
    "* API Style"
   ]
  },
  {
   "cell_type": "code",
   "execution_count": null,
   "metadata": {},
   "outputs": [],
   "source": [
    "import spark.implicits._"
   ]
  },
  {
   "cell_type": "code",
   "execution_count": null,
   "metadata": {
    "pycharm": {
     "name": "#%%\n"
    }
   },
   "outputs": [],
   "source": [
    "import org.apache.spark.sql.functions.{col, concat, lpad, date_format, to_date}\n",
    "\n",
    "airlines.\n",
    "    withColumn(\"FlightDate\",\n",
    "               concat(col(\"Year\"),\n",
    "                      lpad(col(\"Month\"), 2, \"0\"),\n",
    "                      lpad(col(\"DayOfMonth\"), 2, \"0\")\n",
    "                     )\n",
    "              ).\n",
    "    filter(col(\"IsDepDelayed\") === \"YES\" and\n",
    "           date_format(\n",
    "               to_date($\"FlightDate\", \"yyyyMMdd\"), \"EEEE\"\n",
    "           ) === \"Sunday\"\n",
    "          ).\n",
    "    count"
   ]
  }
 ],
 "metadata": {
  "kernelspec": {
   "display_name": "Apache Toree - Scala",
   "language": "scala",
   "name": "apache_toree_scala"
  },
  "language_info": {
   "name": ""
  }
 },
 "nbformat": 4,
 "nbformat_minor": 4
}
