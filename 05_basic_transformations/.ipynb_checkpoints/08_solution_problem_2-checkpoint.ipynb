{
 "cells": [
  {
   "cell_type": "markdown",
   "metadata": {
    "pycharm": {
     "name": "#%% md\n"
    }
   },
   "source": [
    "## Solutions - Problem 2\n",
    "\n",
    "Get number of flights which are delayed in departure and number of flights delayed in arrival for each day along with number of flights departed for each day. \n",
    "\n",
    "* Output should contain 4 columns - **FlightDate**, **FlightCount**, **DepDelayedCount**, **ArrDelayedCount**\n",
    "* **FlightDate** should be of **YYYY-MM-dd** format.\n",
    "*   Data should be **sorted** in ascending order by **flightDate**\n",
    "\n",
    "### Grouping Data by Flight Date\n"
   ]
  },
  {
   "cell_type": "code",
   "execution_count": null,
   "metadata": {
    "pycharm": {
     "name": "#%%\n"
    }
   },
   "outputs": [],
   "source": [
    "import org.apache.spark.sql.functions.{lit, concat, lpad}"
   ]
  },
  {
   "cell_type": "code",
   "execution_count": null,
   "metadata": {
    "pycharm": {
     "name": "#%%\n"
    }
   },
   "outputs": [],
   "source": [
    "import spark.implicits._"
   ]
  },
  {
   "cell_type": "markdown",
   "metadata": {},
   "source": [
    "* Example of `groupBy`. It should follow with `agg`. **If you run the below code, it will throw exception.**"
   ]
  },
  {
   "cell_type": "code",
   "execution_count": null,
   "metadata": {
    "pycharm": {
     "name": "#%%\n"
    }
   },
   "outputs": [],
   "source": [
    "airlines.\n",
    "  groupBy(concat($\"Year\", lit(\"-\"), \n",
    "                 lpad($\"Month\", 2, \"0\"), lit(\"-\"), \n",
    "                 lpad($\"DayOfMonth\", 2, \"0\")).\n",
    "          alias(\"FlightDate\"))"
   ]
  },
  {
   "cell_type": "markdown",
   "metadata": {},
   "source": [
    "### Getting Counts by FlightDate"
   ]
  },
  {
   "cell_type": "code",
   "execution_count": null,
   "metadata": {},
   "outputs": [],
   "source": [
    "import org.apache.spark.sql.functions.{lit, concat, lpad, count}\n",
    "\n",
    "airlines.\n",
    "    groupBy(concat($\"Year\", lit(\"-\"), \n",
    "                   lpad($\"Month\", 2, \"0\"), lit(\"-\"), \n",
    "                   lpad($\"DayOfMonth\", 2, \"0\")).\n",
    "            alias(\"FlightDate\")).\n",
    "    agg(count(lit(1)).alias(\"FlightCount\")).\n",
    "    show(31)"
   ]
  },
  {
   "cell_type": "code",
   "execution_count": null,
   "metadata": {},
   "outputs": [],
   "source": [
    "// Alternative to get the count with out using agg\n",
    "// We will not be able to provide alias for aggregated fields\n",
    "import org.apache.spark.sql.functions.{lit, concat, lpad}"
   ]
  },
  {
   "cell_type": "code",
   "execution_count": null,
   "metadata": {},
   "outputs": [],
   "source": [
    "airlines.\n",
    "    groupBy(concat($\"Year\", lit(\"-\"), \n",
    "                   lpad($\"Month\", 2, \"0\"), lit(\"-\"), \n",
    "                   lpad($\"DayOfMonth\", 2, \"0\")).\n",
    "            alias(\"FlightDate\")).\n",
    "    count.\n",
    "    show(31)"
   ]
  },
  {
   "cell_type": "markdown",
   "metadata": {},
   "source": [
    "### Getting total as well as delayed counts for each day"
   ]
  },
  {
   "cell_type": "code",
   "execution_count": null,
   "metadata": {
    "pycharm": {
     "name": "#%%\n"
    }
   },
   "outputs": [],
   "source": [
    "import org.apache.spark.sql.functions.{lit, concat, lpad, count, sum, expr}"
   ]
  },
  {
   "cell_type": "code",
   "execution_count": null,
   "metadata": {
    "pycharm": {
     "name": "#%%\n"
    }
   },
   "outputs": [],
   "source": [
    "airlines.\n",
    "    groupBy(concat($\"Year\", lit(\"-\"), \n",
    "                   lpad($\"Month\", 2, \"0\"), lit(\"-\"), \n",
    "                   lpad($\"DayOfMonth\", 2, \"0\")).\n",
    "            alias(\"FlightDate\")).\n",
    "    agg(count(lit(1)).alias(\"FlightCount\"),\n",
    "        sum(expr(\"CASE WHEN IsDepDelayed = 'YES' THEN 1 ELSE 0 END\")).alias(\"DepDelayedCount\"),\n",
    "        sum(expr(\"CASE WHEN IsArrDelayed = 'YES' THEN 1 ELSE 0 END\")).alias(\"ArrDelayedCount\")\n",
    "       ).\n",
    "    show"
   ]
  },
  {
   "cell_type": "markdown",
   "metadata": {},
   "source": [
    "### Sorting Data By FlightDate"
   ]
  },
  {
   "cell_type": "code",
   "execution_count": null,
   "metadata": {
    "pycharm": {
     "name": "#%%\n"
    }
   },
   "outputs": [],
   "source": [
    "import org.apache.spark.sql.functions.{lit, concat, lpad, sum, expr}"
   ]
  },
  {
   "cell_type": "code",
   "execution_count": null,
   "metadata": {
    "pycharm": {
     "name": "#%%\n"
    }
   },
   "outputs": [],
   "source": [
    "airlines.\n",
    "    groupBy(concat($\"Year\", lit(\"-\"), \n",
    "                   lpad($\"Month\", 2, \"0\"), lit(\"-\"), \n",
    "                   lpad($\"DayOfMonth\", 2, \"0\")).\n",
    "            alias(\"FlightDate\")).\n",
    "    agg(count(lit(1)).alias(\"FlightCount\"),\n",
    "        sum(expr(\"CASE WHEN IsDepDelayed = 'YES' THEN 1 ELSE 0 END\")).alias(\"DepDelayedCount\"),\n",
    "        sum(expr(\"CASE WHEN IsArrDelayed = 'YES' THEN 1 ELSE 0 END\")).alias(\"ArrDelayedCount\")\n",
    "       ).\n",
    "    orderBy(\"FlightDate\").\n",
    "    show(31)"
   ]
  },
  {
   "cell_type": "markdown",
   "metadata": {},
   "source": [
    "### Sorting Data in descending order by count"
   ]
  },
  {
   "cell_type": "code",
   "execution_count": null,
   "metadata": {},
   "outputs": [],
   "source": [
    "import org.apache.spark.sql.functions.{lit, concat, lpad, sum, expr, col}"
   ]
  },
  {
   "cell_type": "code",
   "execution_count": null,
   "metadata": {},
   "outputs": [],
   "source": [
    "airlines.\n",
    "    groupBy(concat($\"Year\", lit(\"-\"), \n",
    "                   lpad($\"Month\", 2, \"0\"), lit(\"-\"), \n",
    "                   lpad($\"DayOfMonth\", 2, \"0\")).\n",
    "            alias(\"FlightDate\")).\n",
    "    agg(count(lit(1)).alias(\"FlightCount\"),\n",
    "        sum(expr(\"CASE WHEN IsDepDelayed = 'YES' THEN 1 ELSE 0 END\")).alias(\"DepDelayedCount\"),\n",
    "        sum(expr(\"CASE WHEN IsArrDelayed = 'YES' THEN 1 ELSE 0 END\")).alias(\"ArrDelayedCount\")\n",
    "       ).\n",
    "    orderBy(col(\"FlightCount\").desc).\n",
    "    show(31)"
   ]
  }
 ],
 "metadata": {
  "kernelspec": {
   "display_name": "Apache Toree - Scala",
   "language": "scala",
   "name": "apache_toree_scala"
  },
  "language_info": {
   "name": ""
  }
 },
 "nbformat": 4,
 "nbformat_minor": 4
}
