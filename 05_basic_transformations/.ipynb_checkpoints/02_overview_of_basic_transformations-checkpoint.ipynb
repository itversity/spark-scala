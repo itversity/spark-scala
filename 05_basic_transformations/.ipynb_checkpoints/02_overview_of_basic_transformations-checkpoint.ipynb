{
 "cells": [
  {
   "cell_type": "markdown",
   "metadata": {},
   "source": [
    "## Overview of Basic Transformations\n",
    "\n",
    "Let us define problem statements to learn more about Data Frame APIs. We will try to cover filtering, aggregations and sorting as part of solutions for these problem statements.\n",
    "* Get total number of flights as well as number of flights which are delayed in departure and number of flights delayed in arrival. \n",
    "  * Output should contain 3 columns - **FlightCount**, **DepDelayedCount**, **ArrDelayedCount**\n",
    "* Get number of flights which are delayed in departure and number of flights delayed in arrival for each day along with number of flights departed for each day. \n",
    "  * Output should contain 4 columns - **FlightDate**, **FlightCount**, **DepDelayedCount**, **ArrDelayedCount**\n",
    "  * **FlightDate** should be of **YYYY-MM-dd** format.\n",
    "  * Data should be **sorted** in ascending order by **flightDate**\n",
    "* Get all the flights which are departed late but arrived early (**IsArrDelayed is NO**).\n",
    "  * Output should contain - **FlightCRSDepTime**, **UniqueCarrier**, **FlightNum**, **Origin**, **Dest**, **DepDelay**, **ArrDelay**\n",
    "  * **FlightCRSDepTime** need to be computed using **Year**, **Month**, **DayOfMonth**, **CRSDepTime**\n",
    "  * **FlightCRSDepTime** should be displayed using **YYYY-MM-dd HH:mm** format.\n",
    "  * Output should be sorted by **FlightCRSDepTime** and then by the difference between **DepDelay** and **ArrDelay**\n",
    "  * Also get the count of such flights"
   ]
  }
 ],
 "metadata": {
  "kernelspec": {
   "display_name": "Apache Toree - Scala",
   "language": "scala",
   "name": "apache_toree_scala"
  },
  "language_info": {
   "name": ""
  }
 },
 "nbformat": 4,
 "nbformat_minor": 4
}
