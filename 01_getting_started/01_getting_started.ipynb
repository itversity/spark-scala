{
 "cells": [
  {
   "cell_type": "markdown",
   "metadata": {},
   "source": [
    "# Getting Started\n",
    "\n",
    "Let us understand how to get started with Spark using Scala. We will primarily focused on setting up the environment and get started.\n",
    "\n",
    "* Platforms to practice\n",
    "* Setup Spark Locally - Ubunut\n",
    "* Setup Spark Locally - Mac\n",
    "* Signing up for ITVersity Labs\n",
    "* Using ITVersity Labs\n",
    "* Interacting with file systems\n"
   ]
  },
  {
   "cell_type": "code",
   "execution_count": null,
   "metadata": {},
   "outputs": [],
   "source": []
  }
 ],
 "metadata": {
  "kernelspec": {
   "display_name": "Apache Toree - Scala",
   "language": "scala",
   "name": "apache_toree_scala"
  },
  "language_info": {
   "codemirror_mode": "text/x-scala",
   "file_extension": ".scala",
   "mimetype": "text/x-scala",
   "name": "scala",
   "pygments_lexer": "scala",
   "version": "2.11.12"
  }
 },
 "nbformat": 4,
 "nbformat_minor": 4
}
