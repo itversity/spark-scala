{
 "cells": [
  {
   "cell_type": "markdown",
   "metadata": {},
   "source": [
    "## Using ITVersity Labs\n",
    "\n",
    "Let us understand how to submit the Spark Jobs in ITVersity Labs.\n",
    "\n",
    "* As we are using Python we can also use the help command to get the documentation - for example ` help(spark.read.csv)`"
   ]
  }
 ],
 "metadata": {
  "kernelspec": {
   "display_name": "Apache Toree - Scala",
   "language": "scala",
   "name": "apache_toree_scala"
  },
  "language_info": {
   "name": ""
  }
 },
 "nbformat": 4,
 "nbformat_minor": 4
}
