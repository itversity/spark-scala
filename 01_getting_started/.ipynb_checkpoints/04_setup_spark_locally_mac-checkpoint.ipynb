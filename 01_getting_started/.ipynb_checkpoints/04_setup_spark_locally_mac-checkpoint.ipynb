{
 "cells": [
  {
   "cell_type": "markdown",
   "metadata": {},
   "source": [
    "## Setup Spark Locally - Mac\n",
    "\n",
    "Let us setup Spark Locally on Mac.\n",
    "\n",
    "* Install latest version of Anaconda\n",
    "* Make sure Jupyter Notebook is setup and validated.\n",
    "* Setup Spark and Validate.\n",
    "* Setup Environment Variables to integrate Pyspark with Jupyter Notebook.\n",
    "* Launch Jupyter Notebook using `pyspark ` command.\n",
    "* Setup PyCharm (IDE) for application development."
   ]
  }
 ],
 "metadata": {
  "kernelspec": {
   "display_name": "Apache Toree - Scala",
   "language": "scala",
   "name": "apache_toree_scala"
  },
  "language_info": {
   "name": ""
  }
 },
 "nbformat": 4,
 "nbformat_minor": 4
}
