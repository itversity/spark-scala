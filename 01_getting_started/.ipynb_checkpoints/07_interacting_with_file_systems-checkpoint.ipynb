{
 "cells": [
  {
   "cell_type": "markdown",
   "metadata": {},
   "source": [
    "## Interacting with File Systems\n",
    "\n",
    "Let us understand how to interact with file system using %fs command from Databricks Notebook.\n",
    "\n",
    "* We can access datasets using %fs magic command in Databricks notebook\n",
    "* By default, we will see files under dbfs\n",
    "* We can list the files using ls command - e. g.: ` (%fs ls)`\n",
    "* Databricks provides lot of datasets for free under databricks-datasets\n",
    "* If the cluster is integrated with AWS or Azure Blob we can access files by specifying the appropriate protocol (e.g.: s3:// for s3)\n",
    "* List of commands available under %fs\n",
    "  * Copying files or directories `-cp`\n",
    "  * Moving files or directories `- mv `\n",
    "  * Creating directories ` - mkdirs ` \n",
    "  * Deleting files and directories ` - rm `\n",
    "  * We can copy or delete directories recursively using ` -r` or `--recursive`"
   ]
  }
 ],
 "metadata": {
  "kernelspec": {
   "display_name": "Apache Toree - Scala",
   "language": "scala",
   "name": "apache_toree_scala"
  },
  "language_info": {
   "name": ""
  }
 },
 "nbformat": 4,
 "nbformat_minor": 4
}
