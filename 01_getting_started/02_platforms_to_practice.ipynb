{
 "cells": [
  {
   "cell_type": "markdown",
   "metadata": {},
   "source": [
    "## Platforms to Practice\n",
    "\n",
    "Let us understand different platforms we can leverage to practice Apache Spark using Python.\n",
    "\n",
    "* Local Setup\n",
    "* Databricks Platform\n",
    "* Setting up your own cluster\n",
    "* Cloud based labs"
   ]
  }
 ],
 "metadata": {
  "kernelspec": {
   "display_name": "Apache Toree - Scala",
   "language": "scala",
   "name": "apache_toree_scala"
  },
  "language_info": {
   "name": ""
  }
 },
 "nbformat": 4,
 "nbformat_minor": 4
}
