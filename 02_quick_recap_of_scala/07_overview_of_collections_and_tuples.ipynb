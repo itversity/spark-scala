{
 "cells": [
  {
   "cell_type": "markdown",
   "metadata": {},
   "source": [
    "## Overview of Collections and Tuples\n",
    "\n",
    "Let\"s quickly recap about Collections and Tuples in Python. We will primarily talk about collections and tuples that comes as part of Python standard library such as `list`, `set`,` dict` and `tuple.`\n",
    "\n",
    "* Group of elements with length and index - `list`\n",
    "* Group of unique elements - `set`\n",
    "* Group of key value pairs - `dict`\n",
    "* While list, set and dict contain group of homogeneous elements, tuple contains group of heterogeneous elements.\n",
    "* We can consider list, set and dict as a table in a database and tuple as a row or record in a given table.\n",
    "* Typically we create list of tuples or set of tuples and dict is nothing but collection of tuples with 2 elements and key is unique.\n",
    "* We typically use Map Reduce APIs to process the data in collections. There are also some pre-defined functions such as `len`, `sum`,` min`,` max` etc for aggregating data in collections."
   ]
  },
  {
   "cell_type": "markdown",
   "metadata": {},
   "source": [
    "### Tasks\n",
    "\n",
    "Let us perform few tasks to quickly recap details about Collections and Tuples in Python. We will also quickly recap about Map Reduce APIs.\n",
    "\n",
    "* Create a collection of orders by reading data from a file."
   ]
  },
  {
   "cell_type": "code",
   "execution_count": null,
   "metadata": {},
   "outputs": [],
   "source": [
    "import sys.process._"
   ]
  },
  {
   "cell_type": "code",
   "execution_count": null,
   "metadata": {},
   "outputs": [],
   "source": [
    "\"ls -ltr /data/retail_db/orders/part-00000\"!"
   ]
  },
  {
   "cell_type": "code",
   "execution_count": null,
   "metadata": {},
   "outputs": [],
   "source": [
    "val ordersPath = \"/data/retail_db/orders/part-00000\""
   ]
  },
  {
   "cell_type": "code",
   "execution_count": null,
   "metadata": {},
   "outputs": [],
   "source": [
    "import scala.io.Source"
   ]
  },
  {
   "cell_type": "code",
   "execution_count": null,
   "metadata": {},
   "outputs": [],
   "source": [
    "val orders = Source.fromFile(ordersPath).\n",
    "    getLines"
   ]
  },
  {
   "cell_type": "markdown",
   "metadata": {},
   "source": [
    "* Get all unique order statuses. Make sure data is sorted in alphabetical order."
   ]
  },
  {
   "cell_type": "code",
   "execution_count": null,
   "metadata": {},
   "outputs": [],
   "source": [
    "val ordersPath = \"/data/retail_db/orders/part-00000\"\n",
    "\n",
    "import scala.io.Source\n",
    "val orders = Source.fromFile(ordersPath).\n",
    "    getLines\n",
    "\n",
    "orders.\n",
    "    map(order => order.split(\",\")(3)).\n",
    "    toSet.\n",
    "    toList.\n",
    "    sorted.\n",
    "    foreach(println)"
   ]
  },
  {
   "cell_type": "markdown",
   "metadata": {},
   "source": [
    "* Get count of all unique dates."
   ]
  },
  {
   "cell_type": "code",
   "execution_count": null,
   "metadata": {},
   "outputs": [],
   "source": [
    "val ordersPath = \"/data/retail_db/orders/part-00000\"\n",
    "\n",
    "import scala.io.Source\n",
    "val orders = Source.fromFile(ordersPath).\n",
    "    getLines\n",
    "\n",
    "orders.\n",
    "    map(order => order.split(\",\")(1)).\n",
    "    toSet.\n",
    "    toList.\n",
    "    sorted"
   ]
  },
  {
   "cell_type": "markdown",
   "metadata": {},
   "source": [
    "* Sort the data in orders in ascending order by order_customer_id and then order_date."
   ]
  },
  {
   "cell_type": "code",
   "execution_count": null,
   "metadata": {},
   "outputs": [],
   "source": [
    "val ordersPath = \"/data/retail_db/orders/part-00000\"\n",
    "\n",
    "import scala.io.Source\n",
    "val orders = Source.fromFile(ordersPath).\n",
    "    getLines\n",
    "\n",
    "orders.\n",
    "    toList.\n",
    "    sortBy(k => {\n",
    "        val a = k.split(\",\")\n",
    "        (a(2).toInt, a(1))\n",
    "    }).\n",
    "    take(20).\n",
    "    foreach(println)"
   ]
  },
  {
   "cell_type": "markdown",
   "metadata": {},
   "source": [
    "* Create a collection of order_items by reading data from a file."
   ]
  },
  {
   "cell_type": "code",
   "execution_count": null,
   "metadata": {},
   "outputs": [],
   "source": [
    "val orderItemsPath = \"/data/retail_db/order_items/part-00000\"\n",
    "\n",
    "import scala.io.Source\n",
    "val orderItems = Source.fromFile(orderItemsPath).\n",
    "    getLines.\n",
    "    toList\n",
    "orderItems.take(10).foreach(println)"
   ]
  },
  {
   "cell_type": "markdown",
   "metadata": {},
   "source": [
    "* Get revenue for a given order_item_order_id."
   ]
  },
  {
   "cell_type": "code",
   "execution_count": null,
   "metadata": {},
   "outputs": [],
   "source": [
    "def getOrderRevenue(orderItems: List[String], orderId: Int) = {   \n",
    "    val orderItemsFiltered = orderItems.\n",
    "        filter(orderItem => orderItem.split(\",\")(1).toInt == orderId)\n",
    "    val orderItemsMap = orderItemsFiltered.\n",
    "        map(orderItem => orderItem.split(\",\")(4).toFloat)\n",
    "    orderItemsMap.sum\n",
    "}"
   ]
  },
  {
   "cell_type": "code",
   "execution_count": null,
   "metadata": {},
   "outputs": [],
   "source": [
    "val orderItemsPath = \"/data/retail_db/order_items/part-00000\"\n",
    "\n",
    "import scala.io.Source\n",
    "val orderItems = Source.fromFile(orderItemsPath).\n",
    "    getLines.\n",
    "    toList"
   ]
  },
  {
   "cell_type": "code",
   "execution_count": null,
   "metadata": {},
   "outputs": [],
   "source": [
    "print(getOrderRevenue(orderItems, 2))"
   ]
  }
 ],
 "metadata": {
  "kernelspec": {
   "display_name": "Apache Toree - Scala",
   "language": "scala",
   "name": "apache_toree_scala"
  },
  "language_info": {
   "name": ""
  }
 },
 "nbformat": 4,
 "nbformat_minor": 4
}
