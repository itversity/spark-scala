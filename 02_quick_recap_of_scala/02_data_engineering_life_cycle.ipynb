{
 "cells": [
  {
   "cell_type": "markdown",
   "metadata": {},
   "source": [
    "## Data Engineering Life Cycle\n",
    "\n",
    "Let us first understand the Data Engineering Life Cycle. We typically read the data, process it by applying business rules and write the data back to different targets\n",
    "* Read the data from different sources.\n",
    "  * Files\n",
    "  * Databases\n",
    "  * Mainframes\n",
    "  * APIs\n",
    "* Processing the data\n",
    "  * Row Level Transformations\n",
    "  * Aggregations\n",
    "  * Sorting\n",
    "  * Ranking\n",
    "  * Joining multiple data sets\n",
    "* Write data to different targets.\n",
    "  * Files\n",
    "  * Databases\n",
    "  * Mainframes\n",
    "  * APIs"
   ]
  }
 ],
 "metadata": {
  "kernelspec": {
   "display_name": "Apache Toree - Scala",
   "language": "scala",
   "name": "apache_toree_scala"
  },
  "language_info": {
   "name": ""
  }
 },
 "nbformat": 4,
 "nbformat_minor": 4
}
