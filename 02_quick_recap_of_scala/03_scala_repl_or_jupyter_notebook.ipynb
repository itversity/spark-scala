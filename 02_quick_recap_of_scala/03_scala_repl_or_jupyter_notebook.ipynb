{
 "cells": [
  {
   "cell_type": "markdown",
   "metadata": {},
   "source": [
    "## Scala REPL or Jupyter Notebook\n",
    "\n",
    "We can use Scala REPL or Jupyter Notebook to explore APIs.\n",
    "\n",
    "* We can launch Scala REPL using `scala` command.\n",
    "* We can launch the Jupyter Notebook using the `jupyter notebook` command.\n",
    "* A web service will be started on port number 8888 by default.\n",
    "* We can go to the browser and connect to the web server using IP address and port number.\n",
    "* We should be able to explore code in interactive fashion.\n",
    "* We can issue magic commands such as %%sh to run shell commands, %%md to document using markdown etc."
   ]
  },
  {
   "cell_type": "markdown",
   "metadata": {},
   "source": [
    "### Tasks\n",
    "\n",
    "Let us perform these tasks to just recollect how to use Scala REPL or Jupyter Notebook.\n",
    "* Create variables i and j assigning 10 and 20.5 respectively."
   ]
  },
  {
   "cell_type": "code",
   "execution_count": null,
   "metadata": {},
   "outputs": [],
   "source": [
    "val i = 10\n",
    "val j = 20.5"
   ]
  },
  {
   "cell_type": "markdown",
   "metadata": {},
   "source": [
    "* Add the values and assign it to res."
   ]
  },
  {
   "cell_type": "code",
   "execution_count": null,
   "metadata": {},
   "outputs": [],
   "source": [
    "val res = i + j"
   ]
  },
  {
   "cell_type": "code",
   "execution_count": null,
   "metadata": {},
   "outputs": [],
   "source": [
    "println(res)"
   ]
  },
  {
   "cell_type": "markdown",
   "metadata": {},
   "source": [
    "* Get the type of i, j and res."
   ]
  }
 ],
 "metadata": {
  "kernelspec": {
   "display_name": "Apache Toree - Scala",
   "language": "scala",
   "name": "apache_toree_scala"
  },
  "language_info": {
   "name": ""
  }
 },
 "nbformat": 4,
 "nbformat_minor": 4
}
