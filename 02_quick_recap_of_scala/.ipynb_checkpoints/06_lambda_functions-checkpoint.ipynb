{
 "cells": [
  {
   "cell_type": "markdown",
   "metadata": {},
   "source": [
    "## Lambda Functions\n",
    "\n",
    "Let us recap details related to lambda functions.\n",
    "\n",
    "* We can develop functions with out names. They are called Lambda Functions and also known as Anonymous Functions.\n",
    "* We typically use them to pass as arguments to higher order functions which takes functions as arguments\n",
    "    "
   ]
  },
  {
   "cell_type": "markdown",
   "metadata": {},
   "source": [
    "### Tasks\n",
    "\n",
    "Let us perform few tasks related to lambda functions.\n",
    "    \n",
    "* Create a generic function mySum which is supposed to perform arithmetic using integers within a range.   \n",
    "    * It takes 3 arguments - lb, ub and f.\n",
    "    * Function f should be invoked inside the function on each element within the range.\n",
    "\n",
    "    "
   ]
  },
  {
   "cell_type": "code",
   "execution_count": null,
   "metadata": {},
   "outputs": [],
   "source": [
    "def mySum(lb: Int, ub: Int, f: Int => Int) = {\n",
    "    var total = 0\n",
    "    for (e <- (lb to ub))\n",
    "        total += f(e)\n",
    "    total    \n",
    "}"
   ]
  },
  {
   "cell_type": "markdown",
   "metadata": {},
   "source": [
    "* Sum of integers between lower bound and upper bound using mySum."
   ]
  },
  {
   "cell_type": "code",
   "execution_count": null,
   "metadata": {},
   "outputs": [],
   "source": [
    "mySum(2, 4, i => i)"
   ]
  },
  {
   "cell_type": "markdown",
   "metadata": {},
   "source": [
    "* Sum of squares of integers between lower bound and upper bound using mySum."
   ]
  },
  {
   "cell_type": "code",
   "execution_count": null,
   "metadata": {},
   "outputs": [],
   "source": [
    "mySum(2, 4, i => i * i)"
   ]
  },
  {
   "cell_type": "markdown",
   "metadata": {},
   "source": [
    "* Sum of the even numbers between lower bound and upper bound using mySum."
   ]
  },
  {
   "cell_type": "code",
   "execution_count": null,
   "metadata": {},
   "outputs": [],
   "source": [
    "mySum(2, 4, i => if(i%2 == 0) i else 0)"
   ]
  }
 ],
 "metadata": {
  "kernelspec": {
   "display_name": "Apache Toree - Scala",
   "language": "scala",
   "name": "apache_toree_scala"
  },
  "language_info": {
   "name": ""
  }
 },
 "nbformat": 4,
 "nbformat_minor": 4
}
