{
 "cells": [
  {
   "cell_type": "markdown",
   "metadata": {},
   "source": [
    "# Quick Recap of Scala\n",
    "\n",
    "Let us quickly recap of some of the core programming concepts of Python before we get into Spark.\n",
    "\n",
    "* Data Engineering Life Cycle\n",
    "* Scala REPL or Jupyter Notebook\n",
    "* Basic Programming Constructs\n",
    "* Developing Functions\n",
    "* Lambda Functions\n",
    "* Overview of Collections and Tuples\n",
    "* Development Life Cycle\n",
    "* Exercises - LinkedIn Data"
   ]
  },
  {
   "cell_type": "code",
   "execution_count": null,
   "metadata": {},
   "outputs": [],
   "source": []
  }
 ],
 "metadata": {
  "kernelspec": {
   "display_name": "Apache Toree - Scala",
   "language": "scala",
   "name": "apache_toree_scala"
  },
  "language_info": {
   "codemirror_mode": "text/x-scala",
   "file_extension": ".scala",
   "mimetype": "text/x-scala",
   "name": "scala",
   "pygments_lexer": "scala",
   "version": "2.11.12"
  },
  "pycharm": {
   "stem_cell": {
    "cell_type": "raw",
    "metadata": {
     "collapsed": false
    },
    "source": []
   }
  }
 },
 "nbformat": 4,
 "nbformat_minor": 4
}
