{
 "cells": [
  {
   "cell_type": "markdown",
   "metadata": {},
   "source": [
    "## Development Life Cycle\n",
    "\n",
    "Let us understand the development life cycle. We typically use IDEs such as PyCharm to develop Python based applications.\n",
    "\n",
    "* Create Project - retail\n",
    "* Choose the interpreter 3.x\n",
    "* Make sure plugins such as pandas are installed.\n",
    "* Create config.py script for externalizing run time parameters such as input path, output path etc.\n",
    "* Create app folder for the source code."
   ]
  },
  {
   "cell_type": "markdown",
   "metadata": {},
   "source": [
    "### Tasks\n",
    "\n",
    "Let us develop a simple application to understand end to end development life cycle.\n",
    "\n",
    "* Read the data from order_items\n",
    "* Get revenue for each order id\n",
    "* Save the output which contain order id and revenue to a file.\n",
    "\n",
    "Click [here](https://github.com/dgadiraju/python-retail/tree/v1.0) for the complete code for the above tasks."
   ]
  }
 ],
 "metadata": {
  "kernelspec": {
   "display_name": "Apache Toree - Scala",
   "language": "scala",
   "name": "apache_toree_scala"
  },
  "language_info": {
   "name": ""
  }
 },
 "nbformat": 4,
 "nbformat_minor": 4
}
