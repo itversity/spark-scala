{
 "cells": [
  {
   "cell_type": "markdown",
   "metadata": {},
   "source": [
    "## Developing Functions\n",
    "\n",
    "Let us understand how to develop functions using Python as programming language.\n",
    "* Function starts with `def` followed by function name.\n",
    "* Parameters can be of different types.\n",
    "    * Required\n",
    "    * Keyword\n",
    "    * Variable Number\n",
    "    * Functions\n",
    "* Functions which take another function as an argument is called higher order functions.\n",
    "\n",
    "### Tasks\n",
    "\n",
    " Let us perform few tasks to understand how to develop functions in Python.   \n",
    " \n",
    " * Sum of integers between lower bound and upper bound using formula.\n",
    "\n"
   ]
  },
  {
   "cell_type": "code",
   "execution_count": null,
   "metadata": {},
   "outputs": [],
   "source": [
    "def sumOfN(n: Int) =\n",
    "    (n * (n + 1)) / 2"
   ]
  },
  {
   "cell_type": "code",
   "execution_count": null,
   "metadata": {},
   "outputs": [],
   "source": [
    "sumOfN(10)"
   ]
  },
  {
   "cell_type": "code",
   "execution_count": null,
   "metadata": {},
   "outputs": [],
   "source": [
    "def sumOfIntegers(lb: Int, ub: Int) =\n",
    "    sumOfN(ub) - sumOfN(lb - 1)"
   ]
  },
  {
   "cell_type": "code",
   "execution_count": null,
   "metadata": {},
   "outputs": [],
   "source": [
    "sumOfIntegers(5, 10)"
   ]
  },
  {
   "cell_type": "markdown",
   "metadata": {},
   "source": [
    "* Sum of integers between lower bound and upper bound using loops."
   ]
  },
  {
   "cell_type": "code",
   "execution_count": null,
   "metadata": {},
   "outputs": [],
   "source": [
    "def sumOfIntegers(lb: Int, ub: Int) = {\n",
    "    var total = 0\n",
    "    for (e <- (lb to ub))\n",
    "        total += e\n",
    "    total\n",
    "}"
   ]
  },
  {
   "cell_type": "code",
   "execution_count": null,
   "metadata": {},
   "outputs": [],
   "source": [
    "\n",
    "sumOfIntegers(1, 10)"
   ]
  },
  {
   "cell_type": "markdown",
   "metadata": {},
   "source": [
    "* Sum of squares of integers between lower bound and upper bound using loops."
   ]
  },
  {
   "cell_type": "code",
   "execution_count": null,
   "metadata": {},
   "outputs": [],
   "source": [
    "def sumOfSquares(lb: Int, ub: Int) = {\n",
    "    var total = 0\n",
    "    for (e <- (lb to ub))\n",
    "        total += e * e\n",
    "    total\n",
    "}"
   ]
  },
  {
   "cell_type": "code",
   "execution_count": null,
   "metadata": {},
   "outputs": [],
   "source": [
    "sumOfSquares(2, 4)"
   ]
  },
  {
   "cell_type": "markdown",
   "metadata": {},
   "source": [
    "* Sum of the even numbers between lower bound and upper bound using loops."
   ]
  },
  {
   "cell_type": "code",
   "execution_count": null,
   "metadata": {},
   "outputs": [],
   "source": [
    "def sumOfEvens(lb: Int, ub: Int) = {\n",
    "    var total = 0\n",
    "    for (e <- (lb to ub))\n",
    "        total += e * e\n",
    "    total\n",
    "}"
   ]
  },
  {
   "cell_type": "code",
   "execution_count": null,
   "metadata": {},
   "outputs": [],
   "source": [
    "sumOfEvens(2, 4)"
   ]
  }
 ],
 "metadata": {
  "kernelspec": {
   "display_name": "Apache Toree - Scala",
   "language": "scala",
   "name": "apache_toree_scala"
  },
  "language_info": {
   "name": ""
  }
 },
 "nbformat": 4,
 "nbformat_minor": 4
}
