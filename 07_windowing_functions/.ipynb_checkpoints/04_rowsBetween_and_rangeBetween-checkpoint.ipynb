{
 "cells": [
  {
   "cell_type": "markdown",
   "metadata": {},
   "source": [
    "## rowsBetween and rangeBetween\n",
    "\n",
    "We can get cumulative aggregations using `rowsBetween` or `rangeBetween`.\n",
    "\n",
    "* We can use `rowsBetween` to include particular set of rows to perform aggregations.\n",
    "* We can use `rangeBetween` to include particular range of values on a given column."
   ]
  },
  {
   "cell_type": "markdown",
   "metadata": {},
   "source": [
    "Let us start spark context for this Notebook so that we can execute the code provided.\n",
    "\n",
    "If you want to use terminal for the practice, here is the command to use.\n",
    "\n",
    "```\n",
    "spark2-shell \\\n",
    "  --master yarn \\\n",
    "  --name \"Joining Data Sets\" \\\n",
    "  --conf spark.ui.port=0\n",
    "```"
   ]
  },
  {
   "cell_type": "code",
   "execution_count": null,
   "metadata": {},
   "outputs": [],
   "source": [
    "import org.apache.spark.sql.SparkSession\n",
    "\n",
    "val spark = SparkSession.\n",
    "    builder.\n",
    "    config(\"spark.ui.port\", \"0\").\n",
    "    appName(\"Windowing Functions\").\n",
    "    master(\"yarn\").\n",
    "    getOrCreate()"
   ]
  },
  {
   "cell_type": "code",
   "execution_count": null,
   "metadata": {},
   "outputs": [],
   "source": [
    "spark.conf.set(\"spark.sql.shuffle.partitions\", \"2\")"
   ]
  },
  {
   "cell_type": "code",
   "execution_count": null,
   "metadata": {},
   "outputs": [],
   "source": [
    "import spark.implicits._"
   ]
  },
  {
   "cell_type": "code",
   "execution_count": null,
   "metadata": {},
   "outputs": [],
   "source": [
    "val airlines_path = \"/public/airlines_all/airlines-part/flightmonth=200801\""
   ]
  },
  {
   "cell_type": "code",
   "execution_count": null,
   "metadata": {},
   "outputs": [],
   "source": [
    "val airlines = spark.\n",
    "  read.\n",
    "  parquet(airlines_path)"
   ]
  },
  {
   "cell_type": "code",
   "execution_count": null,
   "metadata": {},
   "outputs": [],
   "source": [
    "val spec = Window.\n",
    "    partitionBy(\"FlightDate\", \"Origin\").\n",
    "    orderBy(\"CRSDepTime\").\n",
    "    rowsBetween(Window.unboundedPreceding, 0)"
   ]
  },
  {
   "cell_type": "code",
   "execution_count": null,
   "metadata": {},
   "outputs": [],
   "source": [
    "airlines.\n",
    "    filter(\"IsDepDelayed = 'YES' and Cancelled = 0\").\n",
    "    select(concat($\"Year\", \n",
    "                  lpad($\"Month\", 2, \"0\"), \n",
    "                  lpad($\"DayOfMonth\", 2, \"0\")\n",
    "                 ).alias(\"FlightDate\"),\n",
    "           $\"Origin\",\n",
    "           $\"UniqueCarrier\",\n",
    "           $\"FlightNum\",\n",
    "           $\"CRSDepTime\",\n",
    "           $\"IsDepDelayed\",\n",
    "           $\"DepDelay\".cast(\"int\").alias(\"DepDelay\")\n",
    "          ).\n",
    "    withColumn(\"DepDelaySum\", sum(\"DepDelay\").over(spec)).\n",
    "    orderBy(\"FlightDate\", \"Origin\", \"CRSDepTime\").\n",
    "    show"
   ]
  },
  {
   "cell_type": "code",
   "execution_count": null,
   "metadata": {},
   "outputs": [],
   "source": [
    "val spec = Window.\n",
    "    partitionBy(\"FlightDate\", \"Origin\").\n",
    "    orderBy(\"CRSDepTime\").\n",
    "    rowsBetween(-3, 0)"
   ]
  },
  {
   "cell_type": "code",
   "execution_count": null,
   "metadata": {},
   "outputs": [],
   "source": [
    "airlines.\n",
    "    filter(\"IsDepDelayed = 'YES' and Cancelled = 0\").\n",
    "    select(concat($\"Year\", \n",
    "                  lpad($\"Month\", 2, \"0\"), \n",
    "                  lpad($\"DayOfMonth\", 2, \"0\")\n",
    "                 ).alias(\"FlightDate\"),\n",
    "           $\"Origin\",\n",
    "           $\"UniqueCarrier\",\n",
    "           $\"FlightNum\",\n",
    "           $\"CRSDepTime\",\n",
    "           $\"IsDepDelayed\",\n",
    "           $\"DepDelay\".cast(\"int\").alias(\"DepDelay\")\n",
    "          ).\n",
    "    withColumn(\"DepDelaySum\", sum(\"DepDelay\").over(spec)).\n",
    "    orderBy(\"FlightDate\", \"Origin\", \"CRSDepTime\").\n",
    "    show"
   ]
  }
 ],
 "metadata": {
  "kernelspec": {
   "display_name": "Apache Toree - Scala",
   "language": "scala",
   "name": "apache_toree_scala"
  },
  "language_info": {
   "name": ""
  }
 },
 "nbformat": 4,
 "nbformat_minor": 4
}
