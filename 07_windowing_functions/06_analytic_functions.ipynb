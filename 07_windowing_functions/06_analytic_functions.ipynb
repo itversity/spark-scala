{
 "cells": [
  {
   "cell_type": "markdown",
   "metadata": {},
   "source": [
    "## Analytic Functions\n",
    "\n",
    "We can use Analytic Functions to compare current record with previous record or next record.\n",
    "* `lead` and `lag` are the main functions.\n",
    "* We can also compare each of the day of one week with corresponding day of another week.\n",
    "* `lead` and `lag` serve the same purpose. Depending up on the requirement and sorting of the data we can use either of them.\n",
    "* Here the examples are demonstrated using `lead`. Same can be achieved using `lag` however while defining the spec we have sort the data with in window in descending order to get similar results.\n",
    "* Also we can use `first` and `last` functions to get first or last value with in each group or partition based up on sorting criteria. They are typically used to get the details about other fields (for example, we can get employee name or id who is making highest or lowest salary with in a department)."
   ]
  },
  {
   "cell_type": "markdown",
   "metadata": {},
   "source": [
    "Let us start spark context for this Notebook so that we can execute the code provided.\n",
    "\n",
    "If you want to use terminal for the practice, here is the command to use.\n",
    "\n",
    "```\n",
    "spark2-shell \\\n",
    "  --master yarn \\\n",
    "  --name \"Joining Data Sets\" \\\n",
    "  --conf spark.ui.port=0\n",
    "```"
   ]
  },
  {
   "cell_type": "code",
   "execution_count": null,
   "metadata": {},
   "outputs": [],
   "source": [
    "import org.apache.spark.sql.SparkSession\n",
    "\n",
    "val spark = SparkSession.\n",
    "    builder.\n",
    "    config(\"spark.ui.port\", \"0\").\n",
    "    appName(\"Windowing Functions\").\n",
    "    master(\"yarn\").\n",
    "    getOrCreate()"
   ]
  },
  {
   "cell_type": "code",
   "execution_count": null,
   "metadata": {},
   "outputs": [],
   "source": [
    "spark.conf.set(\"spark.sql.shuffle.partitions\", \"2\")"
   ]
  },
  {
   "cell_type": "code",
   "execution_count": null,
   "metadata": {},
   "outputs": [],
   "source": [
    "import spark.implicits._"
   ]
  },
  {
   "cell_type": "markdown",
   "metadata": {},
   "source": [
    "### Using LEAD"
   ]
  },
  {
   "cell_type": "code",
   "execution_count": null,
   "metadata": {},
   "outputs": [],
   "source": [
    "val airlines_path = \"/public/airlines_all/airlines-part/flightmonth=200801\""
   ]
  },
  {
   "cell_type": "code",
   "execution_count": null,
   "metadata": {},
   "outputs": [],
   "source": [
    "val airlines = spark.\n",
    "  read.\n",
    "  parquet(airlines_path)"
   ]
  },
  {
   "cell_type": "code",
   "execution_count": null,
   "metadata": {},
   "outputs": [],
   "source": [
    "import org.apache.spark.sql.functions.{col, lit, lpad, concat}"
   ]
  },
  {
   "cell_type": "code",
   "execution_count": null,
   "metadata": {},
   "outputs": [],
   "source": [
    "import org.apache.spark.sql.functions.lead"
   ]
  },
  {
   "cell_type": "code",
   "execution_count": null,
   "metadata": {},
   "outputs": [],
   "source": [
    "import org.apache.spark.sql.expressions.Window"
   ]
  },
  {
   "cell_type": "code",
   "execution_count": null,
   "metadata": {},
   "outputs": [],
   "source": [
    "val spec = Window.\n",
    "    partitionBy(\"FlightDate\", \"Origin\").\n",
    "    orderBy(col(\"CRSDepTime\"))"
   ]
  },
  {
   "cell_type": "code",
   "execution_count": null,
   "metadata": {},
   "outputs": [],
   "source": [
    "airlines.\n",
    "    filter(\"IsDepDelayed = 'YES' and Cancelled = 0\").\n",
    "    select(concat($\"Year\", \n",
    "                  lpad($\"Month\", 2, \"0\"), \n",
    "                  lpad($\"DayOfMonth\", 2, \"0\")\n",
    "                 ).alias(\"FlightDate\"),\n",
    "           $\"Origin\",\n",
    "           $\"UniqueCarrier\",\n",
    "           $\"FlightNum\",\n",
    "           $\"CRSDepTime\",\n",
    "           $\"IsDepDelayed\",\n",
    "           $\"DepDelay\".cast(\"int\").alias(\"DepDelay\")\n",
    "          ).\n",
    "    withColumn(\"LeadUniqueCarrier\", lead($\"UniqueCarrier\", 1).over(spec)).\n",
    "    withColumn(\"LeadFlightNum\", lead($\"FlightNum\", 1).over(spec)).\n",
    "    withColumn(\"LeadCRSDepTime\", lead($\"CRSDepTime\", 1).over(spec)).\n",
    "    withColumn(\"LeadDepDelay\", lead($\"DepDelay\", 1).over(spec)).\n",
    "    orderBy(\"FlightDate\", \"Origin\", \"CRSDepTime\").\n",
    "    show"
   ]
  },
  {
   "cell_type": "markdown",
   "metadata": {},
   "source": [
    "### Using LEAD with 7"
   ]
  },
  {
   "cell_type": "code",
   "execution_count": null,
   "metadata": {},
   "outputs": [],
   "source": [
    "val airlines_path = \"/public/airlines_all/airlines-part/flightmonth=200801\""
   ]
  },
  {
   "cell_type": "code",
   "execution_count": null,
   "metadata": {},
   "outputs": [],
   "source": [
    "val airlines = spark.\n",
    "    read.\n",
    "    parquet(airlines_path)"
   ]
  },
  {
   "cell_type": "code",
   "execution_count": null,
   "metadata": {},
   "outputs": [],
   "source": [
    "import org.apache.spark.sql.functions.{col, lit, lpad, concat}"
   ]
  },
  {
   "cell_type": "code",
   "execution_count": null,
   "metadata": {},
   "outputs": [],
   "source": [
    "import org.apache.spark.sql.functions.{sum, lead, substring}"
   ]
  },
  {
   "cell_type": "code",
   "execution_count": null,
   "metadata": {},
   "outputs": [],
   "source": [
    "import org.apache.spark.sql.expressions.Window"
   ]
  },
  {
   "cell_type": "code",
   "execution_count": null,
   "metadata": {},
   "outputs": [],
   "source": [
    "val spec = Window.\n",
    "    partitionBy(substring($\"FlightDate\", 1, 6), $\"Origin\").\n",
    "    orderBy($\"FlightDate\", $\"TotalDepDelay\".desc)"
   ]
  },
  {
   "cell_type": "code",
   "execution_count": null,
   "metadata": {},
   "outputs": [],
   "source": [
    "airlines.\n",
    "    filter(\"\"\"IsDepDelayed = 'YES' \n",
    "              AND Cancelled = 0\n",
    "              AND concat(Year, \n",
    "                         lpad(Month, 2, '0'),\n",
    "                         lpad(DayOfMonth, 2, '0')\n",
    "                        ) BETWEEN 20080101 AND 20080114\n",
    "              AND Origin IN ('ATL', 'DFW', 'JFK', 'LAX', 'SFO', 'ORD')\n",
    "           \"\"\"\n",
    "          ).\n",
    "    groupBy(concat($\"Year\", \n",
    "                   lpad($\"Month\", 2, \"0\"), \n",
    "                   lpad($\"DayOfMonth\", 2, \"0\")\n",
    "                  ).alias(\"FlightDate\"), \n",
    "            $\"Origin\"\n",
    "           ).\n",
    "    agg(sum(col(\"DepDelay\").cast(\"int\")).alias(\"TotalDepDelay\")).\n",
    "    withColumn(\"LeadFlightDate\", lead(\"FlightDate\", 7).over(spec)).\n",
    "    withColumn(\"LeadOrigin\", lead(\"Origin\", 7).over(spec)).\n",
    "    withColumn(\"LeadTotalDepDelay\", lead(\"TotalDepDelay\", 7).over(spec)).\n",
    "    filter(\"Origin = 'ORD'\").\n",
    "    orderBy($\"FlightDate\", $\"TotalDepDelay\".desc).\n",
    "    show"
   ]
  },
  {
   "cell_type": "code",
   "execution_count": null,
   "metadata": {},
   "outputs": [],
   "source": [
    "airlines.\n",
    "    filter(\"\"\"IsDepDelayed = 'YES' \n",
    "              AND Cancelled = 0\n",
    "              AND concat(Year, \n",
    "                         lpad(Month, 2, '0'),\n",
    "                         lpad(DayOfMonth, 2, '0')\n",
    "                        ) BETWEEN 20080101 AND 20080114\n",
    "              AND Origin IN ('ATL', 'DFW', 'JFK', 'LAX', 'SFO', 'ORD')\n",
    "           \"\"\"\n",
    "          ).\n",
    "    groupBy(concat($\"Year\", \n",
    "                   lpad($\"Month\", 2, \"0\"), \n",
    "                   lpad($\"DayOfMonth\", 2, \"0\")\n",
    "                  ).alias(\"FlightDate\"), \n",
    "            $\"Origin\"\n",
    "           ).\n",
    "    agg(sum(col(\"DepDelay\").cast(\"int\")).alias(\"TotalDepDelay\")).\n",
    "    withColumn(\"LeadFlightDate\", lead(\"FlightDate\", 7).over(spec)).\n",
    "    withColumn(\"LeadOrigin\", lead(\"Origin\", 7).over(spec)).\n",
    "    withColumn(\"LeadTotalDepDelay\", lead(\"TotalDepDelay\", 7).over(spec)).\n",
    "    filter(\"Origin = 'ORD' AND FlightDate BETWEEN 20080101 AND 20080107\").\n",
    "    orderBy($\"FlightDate\", $\"TotalDepDelay\".desc).\n",
    "    show"
   ]
  },
  {
   "cell_type": "code",
   "execution_count": null,
   "metadata": {},
   "outputs": [],
   "source": [
    "airlines.\n",
    "    filter(\"\"\"IsDepDelayed = 'YES' \n",
    "              AND Cancelled = 0\n",
    "              AND concat(Year, \n",
    "                         lpad(Month, 2, '0'),\n",
    "                         lpad(DayOfMonth, 2, '0')\n",
    "                        ) BETWEEN 20080101 AND 20080114\n",
    "              AND Origin IN ('ATL', 'DFW', 'JFK', 'LAX', 'SFO', 'ORD')\n",
    "           \"\"\"\n",
    "          ).\n",
    "    groupBy(concat($\"Year\", \n",
    "                   lpad($\"Month\", 2, \"0\"), \n",
    "                   lpad($\"DayOfMonth\", 2, \"0\")\n",
    "                  ).alias(\"FlightDate\"), \n",
    "            $\"Origin\"\n",
    "           ).\n",
    "    agg(sum(col(\"DepDelay\").cast(\"int\")).alias(\"TotalDepDelay\")).\n",
    "    withColumn(\"LeadFlightDate\", lead(\"FlightDate\", 7).over(spec)).\n",
    "    withColumn(\"LeadOrigin\", lead(\"Origin\", 7).over(spec)).\n",
    "    withColumn(\"LeadTotalDepDelay\", lead(\"TotalDepDelay\", 7).over(spec)).\n",
    "    filter(\"FlightDate BETWEEN 20080101 AND 20080107\").\n",
    "    orderBy($\"FlightDate\", $\"TotalDepDelay\".desc).\n",
    "    show"
   ]
  }
 ],
 "metadata": {
  "kernelspec": {
   "display_name": "Apache Toree - Scala",
   "language": "scala",
   "name": "apache_toree_scala"
  },
  "language_info": {
   "name": ""
  }
 },
 "nbformat": 4,
 "nbformat_minor": 4
}
