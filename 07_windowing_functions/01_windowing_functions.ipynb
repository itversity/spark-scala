{
 "cells": [
  {
   "cell_type": "markdown",
   "metadata": {},
   "source": [
    "# Windowing Functions\n",
    "\n",
    "As part of this module let us get into Windowing Functions using Spark Dataframe APIs.\n",
    "\n",
    "* Overview of Windowing Functions\n",
    "* Aggregate Functions\n",
    "* rowsBetween and rangeBetween\n",
    "* Ranking Functions\n",
    "* Analytic Functions"
   ]
  }
 ],
 "metadata": {
  "kernelspec": {
   "display_name": "Apache Toree - Scala",
   "language": "scala",
   "name": "apache_toree_scala"
  },
  "language_info": {
   "codemirror_mode": "text/x-scala",
   "file_extension": ".scala",
   "mimetype": "text/x-scala",
   "name": "scala",
   "pygments_lexer": "scala",
   "version": "2.11.12"
  }
 },
 "nbformat": 4,
 "nbformat_minor": 4
}
