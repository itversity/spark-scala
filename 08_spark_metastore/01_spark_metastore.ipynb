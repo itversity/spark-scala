{
 "cells": [
  {
   "cell_type": "markdown",
   "metadata": {},
   "source": [
    "# Spark Metastore\n",
    "\n",
    "Let us understand how to interact with metastore tables using Spark Dataframe based APIs.\n",
    "\n",
    "* Overview of Spark Metastore\n",
    "* Spark Catalog\n",
    "* Creating Metastore Tables\n",
    "* Define Schema for Tables\n",
    "* Inserting into existing Tables\n",
    "* Reading and Processing Tables\n",
    "* Creating Temp Views\n",
    "* Using Spark SQL"
   ]
  },
  {
   "cell_type": "code",
   "execution_count": null,
   "metadata": {},
   "outputs": [],
   "source": []
  }
 ],
 "metadata": {
  "kernelspec": {
   "display_name": "Apache Toree - Scala",
   "language": "scala",
   "name": "apache_toree_scala"
  },
  "language_info": {
   "codemirror_mode": "text/x-scala",
   "file_extension": ".scala",
   "mimetype": "text/x-scala",
   "name": "scala",
   "pygments_lexer": "scala",
   "version": "2.11.12"
  }
 },
 "nbformat": 4,
 "nbformat_minor": 4
}
