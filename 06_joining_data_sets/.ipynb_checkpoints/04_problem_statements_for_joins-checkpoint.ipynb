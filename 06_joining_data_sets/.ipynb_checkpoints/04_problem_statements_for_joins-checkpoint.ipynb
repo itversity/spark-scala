{
 "cells": [
  {
   "cell_type": "markdown",
   "metadata": {},
   "source": [
    "## Problem Statements\n",
    "\n",
    "Let us understand how to join Data Frames by using some problem statements. We will use 2008 January airlines data along with Airport Codes.\n",
    "\n",
    "* Get number of flights departed from each of the US airport.\n",
    "* Get number of flights departed from each of the state.\n",
    "* Get the list of airports in the US from which flights are not departed.\n",
    "* Check if there are any origins in airlines data which do not have record in airport-codes.\n",
    "* Get the total number of flights from the airports that do not contain entries in airport-codes.\n",
    "* Get the total number of flights per airport that do not contain entries in airport-codes."
   ]
  }
 ],
 "metadata": {
  "kernelspec": {
   "display_name": "Python 3",
   "language": "python",
   "name": "python3"
  },
  "language_info": {
   "codemirror_mode": {
    "name": "ipython",
    "version": 3
   },
   "file_extension": ".py",
   "mimetype": "text/x-python",
   "name": "python",
   "nbconvert_exporter": "python",
   "pygments_lexer": "ipython3",
   "version": "3.6.8"
  }
 },
 "nbformat": 4,
 "nbformat_minor": 4
}
