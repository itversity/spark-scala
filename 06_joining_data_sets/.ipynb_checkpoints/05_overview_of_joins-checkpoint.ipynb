{
 "cells": [
  {
   "cell_type": "markdown",
   "metadata": {},
   "source": [
    "## Overview of Joins\n",
    "\n",
    "Let us get an overview of joining Data Frames.\n",
    "* Our data cannot be stored in one table. It will be stored in multiple tables and the tables might be related.\n",
    "  * When it comes to transactional systems, we typically define tables based on Normalization Principles.\n",
    "  * When it comes to data warehousing applications, we typically define tables using Dimensional Modeling.\n",
    "  * Either of the approach data is scattered into multiple tables and relationships are defined.\n",
    "  * Typically tables are related with one to one, one to many, many to many relationships.\n",
    "* When we have 2 Data Sets that are related based on a common key we typically perform join.\n",
    "* There are different types of joins.\n",
    "  * INNER JOIN\n",
    "  * OUTER JOIN (LEFT or RIGHT)\n",
    "  * FULL OUTER JOIN (a LEFT OUTER JOIN b UNION a RIGHT OUTER JOIN b)\n",
    " "
   ]
  }
 ],
 "metadata": {
  "kernelspec": {
   "display_name": "Apache Toree - Scala",
   "language": "scala",
   "name": "apache_toree_scala"
  },
  "language_info": {
   "codemirror_mode": {
    "name": "ipython",
    "version": 3
   },
   "file_extension": ".py",
   "mimetype": "text/x-python",
   "name": "python",
   "nbconvert_exporter": "python",
   "pygments_lexer": "ipython3",
   "version": "3.6.8"
  }
 },
 "nbformat": 4,
 "nbformat_minor": 4
}
