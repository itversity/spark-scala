{
 "cells": [
  {
   "cell_type": "markdown",
   "metadata": {},
   "source": [
    "# Joining Data Sets\n",
    "\n",
    "Let us understand how to join multiple Data Sets using Spark based APIs.\n",
    "* Prepare Datasets for Joins\n",
    "* Starting Spark Context\n",
    "* Analyze Datasets for Joins\n",
    "* Problem Statements\n",
    "* Overview of Joins\n",
    "* Solutions - Problem 1\n",
    "* Solutions - Problem 2\n",
    "* Solutions - Problem 3\n",
    "* Solutions - Problem 4\n",
    "* Solutions - Problem 5\n",
    "* Solutions - Problem 6"
   ]
  }
 ],
 "metadata": {
  "kernelspec": {
   "display_name": "Apache Toree - Scala",
   "language": "scala",
   "name": "apache_toree_scala"
  },
  "language_info": {
   "codemirror_mode": "text/x-scala",
   "file_extension": ".scala",
   "mimetype": "text/x-scala",
   "name": "scala",
   "pygments_lexer": "scala",
   "version": "2.11.12"
  },
  "pycharm": {
   "stem_cell": {
    "cell_type": "raw",
    "metadata": {
     "collapsed": false
    },
    "source": []
   }
  }
 },
 "nbformat": 4,
 "nbformat_minor": 4
}
